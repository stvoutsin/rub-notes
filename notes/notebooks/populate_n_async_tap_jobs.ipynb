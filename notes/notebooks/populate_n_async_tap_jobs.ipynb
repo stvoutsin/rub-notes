{
 "cells": [
  {
   "cell_type": "markdown",
   "id": "749b0ddf",
   "metadata": {},
   "source": [
    "# Notebook to generate n=100000 test jobs"
   ]
  },
  {
   "cell_type": "code",
   "execution_count": null,
   "id": "4d4078a1-8232-4f11-97ec-2a67ca19308e",
   "metadata": {},
   "outputs": [],
   "source": [
    "import pyvo\n",
    "from astropy.table import Table\n",
    "from lsst.rsp import get_tap_service\n",
    "from concurrent.futures import ThreadPoolExecutor\n",
    "import itertools"
   ]
  },
  {
   "cell_type": "code",
   "execution_count": null,
   "id": "6500546d-afa6-41eb-ba60-7ee5b2823ec6",
   "metadata": {},
   "outputs": [],
   "source": [
    "N = 100000"
   ]
  },
  {
   "cell_type": "code",
   "execution_count": null,
   "id": "b62bc6f9-62ea-46a8-a05d-f6a7efaa855c",
   "metadata": {},
   "outputs": [],
   "source": [
    "rsp_tap = get_tap_service(\"tap\")\n",
    "assert rsp_tap is not None"
   ]
  },
  {
   "cell_type": "markdown",
   "id": "7a956193-0562-47f1-a832-0fb512ec034a",
   "metadata": {},
   "source": [
    "### 1.2. Create upload data (as a string)"
   ]
  },
  {
   "cell_type": "code",
   "execution_count": null,
   "id": "38099f48-300b-473f-bf44-f6b464ce76dc",
   "metadata": {},
   "outputs": [],
   "source": [
    "query = \"\"\"\n",
    "        SELECT INVALID\n",
    "        \"\"\""
   ]
  },
  {
   "cell_type": "code",
   "execution_count": null,
   "id": "e5d465d1-fbe7-4f4f-a881-1d0f2de5f617",
   "metadata": {},
   "outputs": [],
   "source": [
    "def run_single_job():\n",
    "    job = rsp_tap.submit_job(query)\n",
    "    job.run()\n",
    "    job.wait(phases=['COMPLETED', 'ERROR'])\n",
    "    return job\n",
    "\n",
    "batch_size = 5\n",
    "with ThreadPoolExecutor(max_workers=batch_size) as executor:\n",
    "    for i in range(0, N, batch_size):\n",
    "        current_batch_size = min(batch_size, N - i)\n",
    "        futures = [executor.submit(run_single_job) for _ in range(current_batch_size)]\n",
    "        \n",
    "        for future in futures:\n",
    "            future.result()\n",
    "        \n",
    "        print(f\"Completed batch {i//batch_size + 1}\")"
   ]
  }
 ],
 "metadata": {
  "kernelspec": {
   "display_name": "LSST",
   "language": "python",
   "name": "lsst"
  },
  "language_info": {
   "codemirror_mode": {
    "name": "ipython",
    "version": 3
   },
   "file_extension": ".py",
   "mimetype": "text/x-python",
   "name": "python",
   "nbconvert_exporter": "python",
   "pygments_lexer": "ipython3",
   "version": "3.12.11"
  },
  "toc-autonumbering": false
 },
 "nbformat": 4,
 "nbformat_minor": 5
}
