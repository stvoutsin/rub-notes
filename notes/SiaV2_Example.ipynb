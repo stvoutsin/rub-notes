{
 "cells": [
  {
   "cell_type": "code",
   "execution_count": null,
   "id": "b6f3db62-b15c-456c-a7ae-ac16dd7586f3",
   "metadata": {
    "tags": []
   },
   "outputs": [],
   "source": [
    "import os\n",
    "import random\n",
    "\n",
    "from astropy.io import fits\n",
    "from astropy.utils.data import download_file\n",
    "from astropy.visualization import imshow_norm, ZScaleInterval\n",
    "from astropy.visualization.stretch import  SqrtStretch\n",
    "from astropy.time import Time\n",
    "import matplotlib.pyplot as plt\n",
    "\n",
    "from pyvo.dal.sia2 import SIA2Service\n",
    "import pyvo\n",
    "\n",
    "from lsst.rsp import get_datalink_result, get_siav2_service\n",
    "from lsst.rsp.service import get_siav2_service\n",
    "from lsst.rsp.utils import get_pyvo_auth, get_access_token, get_service_url\n"
   ]
  },
  {
   "cell_type": "code",
   "execution_count": null,
   "id": "33ecd807-c465-401c-aefc-14cc0267ed02",
   "metadata": {},
   "outputs": [],
   "source": [
    "# TODO: We shouldn't have to specify the release here probably \n",
    "sia_url = get_service_url(\"sia/dp02\")"
   ]
  },
  {
   "cell_type": "code",
   "execution_count": null,
   "id": "84aee206-b587-4f11-aa10-9164e5f7b677",
   "metadata": {},
   "outputs": [],
   "source": [
    "# TODO: This will be hidden from the user\n",
    "\n",
    "import requests\n",
    "token = get_access_token()\n",
    "\n",
    "s = requests.Session()\n",
    "s.headers[\"Authorization\"] = \"Bearer \" + token\n",
    "auth = pyvo.auth.authsession.AuthSession()\n",
    "auth.credentials.set(\"lsst-token\", s)\n",
    "auth.add_security_method_for_url(sia_url + \"/query\", \"lsst-token\")\n"
   ]
  },
  {
   "cell_type": "code",
   "execution_count": null,
   "id": "b541cf37-61e1-4681-8edc-db1cacffeab9",
   "metadata": {},
   "outputs": [],
   "source": [
    "# Get an object to query the SIAV2 service with\n",
    "service = SIA2Service(sia_url, session=auth)"
   ]
  },
  {
   "cell_type": "code",
   "execution_count": null,
   "id": "96d6264f-eabb-4d18-9388-84b5fe5eb27d",
   "metadata": {
    "editable": true,
    "slideshow": {
     "slide_type": ""
    },
    "tags": []
   },
   "outputs": [],
   "source": [
    "# Execute a query looking for pictures within a circle\n",
    "# and show them as a table\n",
    "t1 = Time(\"60550.31803461111\", format='mjd').to_datetime()\n",
    "t2 = Time(\"60550.31838182871\", format='mjd').to_datetime()\n",
    "\n",
    "results = service.search(pos=(55.7467, -32.2862, 0.05), time=[t1,t2])\n"
   ]
  },
  {
   "cell_type": "code",
   "execution_count": null,
   "id": "e37e8b10-46ea-4e4d-90fb-42e1773aaa13",
   "metadata": {},
   "outputs": [],
   "source": [
    "results.to_table()"
   ]
  },
  {
   "cell_type": "code",
   "execution_count": null,
   "id": "30a542c8-ae18-440b-9d12-5665415e30ca",
   "metadata": {
    "tags": []
   },
   "outputs": [],
   "source": [
    "# Extract the access URL from the result in the first row\n",
    "result = random.choice(results)\n",
    "f\"Datalink link service url: {result.getdataurl()}\""
   ]
  },
  {
   "cell_type": "code",
   "execution_count": null,
   "id": "976bced7-2c4f-4722-acdf-6da6ed985c81",
   "metadata": {
    "tags": []
   },
   "outputs": [],
   "source": [
    "# Retrieve the datalink votable document and\n",
    "# show it in the notebook\n",
    "dl_result = get_datalink_result(result)\n",
    "dl_result.to_table().show_in_notebook()"
   ]
  },
  {
   "cell_type": "code",
   "execution_count": null,
   "id": "f95b561c-ac30-4c09-92dd-8d4be4eec9a6",
   "metadata": {
    "tags": []
   },
   "outputs": [],
   "source": [
    "# Full image of calexp - not a cutout\n",
    "image_url = dl_result.getrecord(0).get('access_url')\n",
    "image_url"
   ]
  },
  {
   "cell_type": "code",
   "execution_count": null,
   "id": "ff880647-1215-4157-977c-d0933ea0152a",
   "metadata": {
    "tags": []
   },
   "outputs": [],
   "source": [
    "# Now let's download the image \n",
    "filename = download_file(image_url)\n",
    "filename"
   ]
  },
  {
   "cell_type": "code",
   "execution_count": null,
   "id": "18d53f7e-9919-4bec-888e-a3a18b74cdb6",
   "metadata": {
    "tags": []
   },
   "outputs": [],
   "source": [
    "hdulist = fits.open(image_url)\n",
    "\n",
    "for hdu in hdulist:\n",
    "    print(hdu.name)"
   ]
  },
  {
   "cell_type": "code",
   "execution_count": null,
   "id": "33e1062c-5efa-46e8-979c-e4e84e9d62b0",
   "metadata": {
    "tags": []
   },
   "outputs": [],
   "source": [
    "# Let's plot the image and see what it looks like...\n",
    "image = hdulist[1].data\n",
    "\n",
    "fig = plt.figure()\n",
    "ax = fig.add_subplot(1, 1, 1)\n",
    "im = imshow_norm(image, ax, origin='lower', interval=ZScaleInterval(), stretch=SqrtStretch(), cmap='gray')\n",
    "fig.colorbar(im[0])"
   ]
  },
  {
   "cell_type": "code",
   "execution_count": null,
   "id": "ae1a87b5-1838-4b77-a240-ae463d8d0084",
   "metadata": {},
   "outputs": [],
   "source": []
  }
 ],
 "metadata": {
  "kernelspec": {
   "display_name": "LSST",
   "language": "python",
   "name": "lsst"
  },
  "language_info": {
   "codemirror_mode": {
    "name": "ipython",
    "version": 3
   },
   "file_extension": ".py",
   "mimetype": "text/x-python",
   "name": "python",
   "nbconvert_exporter": "python",
   "pygments_lexer": "ipython3",
   "version": "3.12.9"
  }
 },
 "nbformat": 4,
 "nbformat_minor": 5
}
